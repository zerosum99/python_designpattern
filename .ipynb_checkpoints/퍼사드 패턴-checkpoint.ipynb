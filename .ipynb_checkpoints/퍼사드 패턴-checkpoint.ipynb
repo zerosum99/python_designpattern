{
 "cells": [
  {
   "cell_type": "markdown",
   "metadata": {},
   "source": [
    "# 퍼샤드 패턴이란 \n",
    "\n",
    "> 실제 서비스를 하는 서브시스템에 직접 접근하기보다 이 서브시스템의 기능을 연결하는 인터페이스에 접근해서 처리하는 구조"
   ]
  },
  {
   "cell_type": "markdown",
   "metadata": {},
   "source": [
    "## 클라이언트는 실제 서브시스템에 접근하지 않고 퍼샤드에 접근해서 서비스를 받는 기능\n",
    "\n",
    "> 고객은 이름과 나이로 일단 구분\n",
    "\n",
    "> 은행에 와서 실제 고객정보를 등록한다.\n",
    "\n"
   ]
  },
  {
   "cell_type": "code",
   "execution_count": 1,
   "metadata": {},
   "outputs": [],
   "source": [
    "class client :\n",
    "    def __init__(self,name,age) :\n",
    "        self.name = name\n",
    "        self.age = age\n",
    "        \n",
    "    def bank_register(self) :\n",
    "        p = pacade()\n",
    "        return p.register(self)"
   ]
  },
  {
   "cell_type": "markdown",
   "metadata": {},
   "source": [
    "### 클라이언트를 만든다"
   ]
  },
  {
   "cell_type": "code",
   "execution_count": 2,
   "metadata": {},
   "outputs": [],
   "source": [
    "c = client(\"Dahl\",'50')"
   ]
  },
  {
   "cell_type": "markdown",
   "metadata": {},
   "source": [
    "### 고객을 등록한다"
   ]
  },
  {
   "cell_type": "code",
   "execution_count": 7,
   "metadata": {},
   "outputs": [],
   "source": [
    "d = c.bank_register()"
   ]
  },
  {
   "cell_type": "code",
   "execution_count": 8,
   "metadata": {},
   "outputs": [
    {
     "data": {
      "text/plain": [
       "{'ip': 1, 'name': 'Dahl', 'age': '50'}"
      ]
     },
     "execution_count": 8,
     "metadata": {},
     "output_type": "execute_result"
    }
   ],
   "source": [
    "d.__dict__"
   ]
  },
  {
   "cell_type": "markdown",
   "metadata": {},
   "source": [
    "## 퍼샤드는 서브시스템의 기능을 서비스하는 기능 \n",
    "\n",
    "> 참여자 정보 관리 \n",
    ">>  실제 고객을 관리하는 시스템\n",
    "\n",
    "\n",
    "> 통장 개설  \n",
    ">> 계좌 정보를 만들고 계약정보를 관리한다.\n",
    "\n",
    "> 지급관리\n",
    ">> 실제 돈이 입출금되는 정보를 관리 "
   ]
  },
  {
   "cell_type": "code",
   "execution_count": 4,
   "metadata": {},
   "outputs": [],
   "source": [
    "class pacade :\n",
    "        \n",
    "    def register(self,client) :\n",
    "        return InvolvedParty(client)\n",
    "    \n",
    "    def issue(self) :\n",
    "        pass\n",
    "    \n",
    "    def deposit(self) :\n",
    "        pass"
   ]
  },
  {
   "cell_type": "markdown",
   "metadata": {},
   "source": [
    "## 실제 업무를 처리하는 기능 "
   ]
  },
  {
   "cell_type": "code",
   "execution_count": 6,
   "metadata": {},
   "outputs": [],
   "source": [
    "class InvolvedParty :\n",
    "    \n",
    "    _ip = 0\n",
    "    \n",
    "    def __init__(self, client) :\n",
    "        self.register(client)\n",
    "    \n",
    "    def ip_create(self) :\n",
    "        InvolvedParty._ip = InvolvedParty._ip + 1\n",
    "        return InvolvedParty._ip\n",
    "    \n",
    "    def register(self, client) :\n",
    "        self.ip = self.ip_create()\n",
    "        self.name = client. name\n",
    "        self.age = client. age"
   ]
  },
  {
   "cell_type": "code",
   "execution_count": null,
   "metadata": {},
   "outputs": [],
   "source": [
    "class Agreement :\n",
    "    pass"
   ]
  },
  {
   "cell_type": "code",
   "execution_count": null,
   "metadata": {},
   "outputs": [],
   "source": [
    "class Payment :\n",
    "    pass"
   ]
  },
  {
   "cell_type": "code",
   "execution_count": null,
   "metadata": {},
   "outputs": [],
   "source": [
    "class BankProduct :\n",
    "    pass"
   ]
  }
 ],
 "metadata": {
  "kernelspec": {
   "display_name": "Python 3",
   "language": "python",
   "name": "python3"
  },
  "language_info": {
   "codemirror_mode": {
    "name": "ipython",
    "version": 3
   },
   "file_extension": ".py",
   "mimetype": "text/x-python",
   "name": "python",
   "nbconvert_exporter": "python",
   "pygments_lexer": "ipython3",
   "version": "3.6.7"
  }
 },
 "nbformat": 4,
 "nbformat_minor": 2
}
