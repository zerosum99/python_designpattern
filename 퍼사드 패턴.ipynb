{
 "cells": [
  {
   "cell_type": "markdown",
   "metadata": {},
   "source": [
    "# 퍼샤드 패턴이란 \n",
    "\n",
    "> 실제 서비스를 하는 서브시스템에 직접 접근하기보다 이 서브시스템의 기능을 연결하는 인터페이스에 접근해서 처리하는 구조"
   ]
  },
  {
   "cell_type": "markdown",
   "metadata": {},
   "source": [
    "## 클라이언트는 실제 서브시스템에 접근하지 않고 퍼샤드에 접근해서 서비스를 받는 기능\n",
    "\n",
    "> 고객은 이름과 나이로 일단 구분\n",
    "\n",
    "> 은행에 와서 실제 고객정보를 등록한다.\n",
    "\n"
   ]
  },
  {
   "cell_type": "code",
   "execution_count": 30,
   "metadata": {},
   "outputs": [],
   "source": [
    "class client :\n",
    "    def __init__(self,name,age) :\n",
    "        self.name = name\n",
    "        self.age = age\n",
    "        \n",
    "    def bank_register(self) :\n",
    "        p = pacade()\n",
    "        return p.register(self)\n",
    "    \n",
    "    def bank_issue(self,ip,money) :\n",
    "        p = pacade()\n",
    "        return p.issue(ip,money)"
   ]
  },
  {
   "cell_type": "markdown",
   "metadata": {},
   "source": [
    "### 클라이언트를 만든다"
   ]
  },
  {
   "cell_type": "code",
   "execution_count": 31,
   "metadata": {},
   "outputs": [],
   "source": [
    "c = client(\"Dahl\",'50')"
   ]
  },
  {
   "cell_type": "markdown",
   "metadata": {},
   "source": [
    "### 고객을 등록한다"
   ]
  },
  {
   "cell_type": "code",
   "execution_count": 32,
   "metadata": {},
   "outputs": [],
   "source": [
    "d = c.bank_register()"
   ]
  },
  {
   "cell_type": "code",
   "execution_count": 33,
   "metadata": {},
   "outputs": [
    {
     "data": {
      "text/plain": [
       "{'ip': 3, 'name': 'Dahl', 'age': '50'}"
      ]
     },
     "execution_count": 33,
     "metadata": {},
     "output_type": "execute_result"
    }
   ],
   "source": [
    "d.__dict__"
   ]
  },
  {
   "cell_type": "markdown",
   "metadata": {},
   "source": [
    "### 계좌를 개설한다"
   ]
  },
  {
   "cell_type": "code",
   "execution_count": 35,
   "metadata": {},
   "outputs": [],
   "source": [
    "e = c.bank_issue(d.ip,1000)"
   ]
  },
  {
   "cell_type": "markdown",
   "metadata": {},
   "source": [
    "### 계좌정보 확인"
   ]
  },
  {
   "cell_type": "code",
   "execution_count": 36,
   "metadata": {},
   "outputs": [
    {
     "data": {
      "text/plain": [
       "{'accountno': 2, 'owner': 3, 'pay': <__main__.Payment at 0x11c6d24c2e8>}"
      ]
     },
     "execution_count": 36,
     "metadata": {},
     "output_type": "execute_result"
    }
   ],
   "source": [
    "e.__dict__"
   ]
  },
  {
   "cell_type": "markdown",
   "metadata": {},
   "source": [
    "### 거래정보 확인"
   ]
  },
  {
   "cell_type": "code",
   "execution_count": 38,
   "metadata": {},
   "outputs": [
    {
     "data": {
      "text/plain": [
       "{'serise': 200001, 'money': 1000}"
      ]
     },
     "execution_count": 38,
     "metadata": {},
     "output_type": "execute_result"
    }
   ],
   "source": [
    "e.pay.__dict__"
   ]
  },
  {
   "cell_type": "markdown",
   "metadata": {},
   "source": [
    "## 퍼샤드는 서브시스템의 기능을 서비스하는 기능 \n",
    "\n",
    "> 참여자 정보 관리 \n",
    ">>  실제 고객을 관리하는 시스템\n",
    "\n",
    "\n",
    "> 통장 개설  \n",
    ">> 계좌 정보를 만들고 계약정보를 관리한다.\n",
    "\n",
    "> 지급관리\n",
    ">> 실제 돈이 입출금되는 정보를 관리 "
   ]
  },
  {
   "cell_type": "code",
   "execution_count": 28,
   "metadata": {},
   "outputs": [],
   "source": [
    "class pacade :\n",
    "        \n",
    "    def register(self,client) :\n",
    "        return InvolvedParty(client)\n",
    "    \n",
    "    def issue(self,ip, money) :\n",
    "        return Agreement(ip, money)\n",
    "    \n",
    "    def deposit(self) :\n",
    "        pass"
   ]
  },
  {
   "cell_type": "markdown",
   "metadata": {},
   "source": [
    "## 실제 업무를 처리하는 기능 "
   ]
  },
  {
   "cell_type": "markdown",
   "metadata": {},
   "source": [
    "### 고객을 등록한다"
   ]
  },
  {
   "cell_type": "code",
   "execution_count": 6,
   "metadata": {},
   "outputs": [],
   "source": [
    "class InvolvedParty :\n",
    "    \n",
    "    _ip = 0\n",
    "    \n",
    "    def __init__(self, client) :\n",
    "        self.register(client)\n",
    "    \n",
    "    def ip_create(self) :\n",
    "        InvolvedParty._ip = InvolvedParty._ip + 1\n",
    "        return InvolvedParty._ip\n",
    "    \n",
    "    def register(self, client) :\n",
    "        self.ip = self.ip_create()\n",
    "        self.name = client. name\n",
    "        self.age = client. age"
   ]
  },
  {
   "cell_type": "markdown",
   "metadata": {},
   "source": [
    "### 계좌를 개설한다"
   ]
  },
  {
   "cell_type": "code",
   "execution_count": 18,
   "metadata": {},
   "outputs": [],
   "source": [
    "class Agreement :\n",
    "    _ag = 0 \n",
    "    def __init__(self, ip, money) :\n",
    "        self.issue(ip)\n",
    "        self.pay = Payment(self.accountno,money)\n",
    "        \n",
    "    def issue(self,ip) :\n",
    "        Agreement._ag = Agreement._ag + 1\n",
    "        self.accountno = Agreement._ag\n",
    "        self.owner = ip"
   ]
  },
  {
   "cell_type": "markdown",
   "metadata": {},
   "source": [
    "### 거래내역을 정산한다"
   ]
  },
  {
   "cell_type": "code",
   "execution_count": 17,
   "metadata": {},
   "outputs": [],
   "source": [
    "class Payment :\n",
    "    _seq = 0\n",
    "    def __init__(self,ag, money) :\n",
    "        self.serise = ag* 100000 + Payment._seq + 1\n",
    "        self.money = money\n",
    "        "
   ]
  },
  {
   "cell_type": "markdown",
   "metadata": {},
   "source": [
    "### 상품을 관리한다"
   ]
  },
  {
   "cell_type": "code",
   "execution_count": 11,
   "metadata": {},
   "outputs": [],
   "source": [
    "class BankProduct :\n",
    "    pass"
   ]
  },
  {
   "cell_type": "code",
   "execution_count": null,
   "metadata": {},
   "outputs": [],
   "source": []
  }
 ],
 "metadata": {
  "kernelspec": {
   "display_name": "Python 3",
   "language": "python",
   "name": "python3"
  },
  "language_info": {
   "codemirror_mode": {
    "name": "ipython",
    "version": 3
   },
   "file_extension": ".py",
   "mimetype": "text/x-python",
   "name": "python",
   "nbconvert_exporter": "python",
   "pygments_lexer": "ipython3",
   "version": "3.6.7"
  }
 },
 "nbformat": 4,
 "nbformat_minor": 2
}
